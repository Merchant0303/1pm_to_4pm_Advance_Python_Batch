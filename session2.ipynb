{
 "cells": [
  {
   "cell_type": "markdown",
   "id": "c5baee65",
   "metadata": {},
   "source": [
    "# Session2"
   ]
  },
  {
   "cell_type": "markdown",
   "id": "5bf2f364",
   "metadata": {},
   "source": [
    "- two types of function\n",
    "- 1)pre-defined function\n",
    "- 2)user defined function"
   ]
  },
  {
   "cell_type": "code",
   "execution_count": 2,
   "id": "26f84d32",
   "metadata": {},
   "outputs": [
    {
     "data": {
      "text/plain": [
       "7"
      ]
     },
     "execution_count": 2,
     "metadata": {},
     "output_type": "execute_result"
    }
   ],
   "source": [
    "len(\"ETLHIVE\")"
   ]
  },
  {
   "cell_type": "code",
   "execution_count": 5,
   "id": "140c8db7",
   "metadata": {},
   "outputs": [
    {
     "data": {
      "text/plain": [
       "8"
      ]
     },
     "execution_count": 5,
     "metadata": {},
     "output_type": "execute_result"
    }
   ],
   "source": [
    "lst=[2,3,4,5,6,7,8,9]\n",
    "len(lst)"
   ]
  },
  {
   "cell_type": "markdown",
   "id": "1ca88960",
   "metadata": {},
   "source": [
    "# User defined"
   ]
  },
  {
   "cell_type": "code",
   "execution_count": 6,
   "id": "8ddc8e4d",
   "metadata": {},
   "outputs": [],
   "source": [
    "# print table of any number"
   ]
  },
  {
   "cell_type": "code",
   "execution_count": 12,
   "id": "5f50c2aa",
   "metadata": {},
   "outputs": [],
   "source": [
    "def print_table(n):\n",
    "    for i in range(1,11):\n",
    "        print(n*1)"
   ]
  },
  {
   "cell_type": "code",
   "execution_count": 14,
   "id": "60c43cd8",
   "metadata": {},
   "outputs": [
    {
     "name": "stdout",
     "output_type": "stream",
     "text": [
      "6\n",
      "6\n",
      "6\n",
      "6\n",
      "6\n",
      "6\n",
      "6\n",
      "6\n",
      "6\n",
      "6\n"
     ]
    }
   ],
   "source": [
    "print_table(6)"
   ]
  },
  {
   "cell_type": "code",
   "execution_count": 15,
   "id": "3971ee97",
   "metadata": {},
   "outputs": [],
   "source": [
    "lst=[3,5,7,8,9,23,45,67]"
   ]
  },
  {
   "cell_type": "code",
   "execution_count": 33,
   "id": "60da7916",
   "metadata": {},
   "outputs": [],
   "source": [
    "def print_square(l):\n",
    "    for i in l:\n",
    "        print(i*i)"
   ]
  },
  {
   "cell_type": "code",
   "execution_count": 37,
   "id": "c7070012",
   "metadata": {},
   "outputs": [
    {
     "name": "stdout",
     "output_type": "stream",
     "text": [
      "9\n",
      "25\n",
      "49\n",
      "64\n",
      "81\n",
      "529\n",
      "2025\n",
      "4489\n"
     ]
    }
   ],
   "source": [
    "print_square(lst)"
   ]
  },
  {
   "cell_type": "code",
   "execution_count": 38,
   "id": "ee1c64e8",
   "metadata": {},
   "outputs": [],
   "source": [
    "def cal_cube(n):\n",
    "    print(f\"cube of a number {n} is {n*n*n}\")"
   ]
  },
  {
   "cell_type": "code",
   "execution_count": 40,
   "id": "02dcfa75",
   "metadata": {},
   "outputs": [
    {
     "name": "stdout",
     "output_type": "stream",
     "text": [
      "cube of a number 9 is 729\n"
     ]
    }
   ],
   "source": [
    "cal_cube(9)"
   ]
  },
  {
   "cell_type": "code",
   "execution_count": 41,
   "id": "d68ec755",
   "metadata": {},
   "outputs": [],
   "source": [
    "# with return\n",
    "def cal_square(n):\n",
    "    return n*n"
   ]
  },
  {
   "cell_type": "code",
   "execution_count": 42,
   "id": "5ffd5346",
   "metadata": {},
   "outputs": [
    {
     "data": {
      "text/plain": [
       "25"
      ]
     },
     "execution_count": 42,
     "metadata": {},
     "output_type": "execute_result"
    }
   ],
   "source": [
    "cal_square(5)"
   ]
  },
  {
   "cell_type": "code",
   "execution_count": 43,
   "id": "45ffa82e",
   "metadata": {},
   "outputs": [],
   "source": [
    "# def function_name(parameter list):\n",
    "#     logical part"
   ]
  },
  {
   "cell_type": "code",
   "execution_count": 44,
   "id": "6322c8c3",
   "metadata": {},
   "outputs": [],
   "source": [
    "# defining a function\n",
    "def greet():\n",
    "    print(\"Welcome to etlhive\")"
   ]
  },
  {
   "cell_type": "code",
   "execution_count": 45,
   "id": "3b5f984b",
   "metadata": {},
   "outputs": [
    {
     "name": "stdout",
     "output_type": "stream",
     "text": [
      "Welcome to etlhive\n",
      "Welcome to etlhive\n",
      "Welcome to etlhive\n",
      "Welcome to etlhive\n",
      "Welcome to etlhive\n"
     ]
    }
   ],
   "source": [
    "# calling a function\n",
    "greet()\n",
    "greet()\n",
    "greet()\n",
    "greet()\n",
    "greet()"
   ]
  },
  {
   "cell_type": "code",
   "execution_count": 46,
   "id": "c84e2548",
   "metadata": {},
   "outputs": [
    {
     "name": "stdout",
     "output_type": "stream",
     "text": [
      "Welcome to etlhive\n"
     ]
    }
   ],
   "source": [
    "greet()"
   ]
  },
  {
   "cell_type": "code",
   "execution_count": 50,
   "id": "6ce06a7f",
   "metadata": {},
   "outputs": [],
   "source": [
    "# function with parametre\n",
    "def greet1(Pratham):\n",
    "    print(f\"welcome to ETHLHIVE {Pratham}\")"
   ]
  },
  {
   "cell_type": "code",
   "execution_count": 51,
   "id": "c2da561d",
   "metadata": {},
   "outputs": [
    {
     "name": "stdout",
     "output_type": "stream",
     "text": [
      "welcome to ETHLHIVE Pratham\n"
     ]
    }
   ],
   "source": [
    "# calling\n",
    "greet1(\"Pratham\")"
   ]
  },
  {
   "cell_type": "code",
   "execution_count": 53,
   "id": "b93f4bae",
   "metadata": {},
   "outputs": [
    {
     "name": "stdout",
     "output_type": "stream",
     "text": [
      "welcome to ETHLHIVE Pratham\n"
     ]
    }
   ],
   "source": [
    "greet1(\"Pratham\")"
   ]
  },
  {
   "cell_type": "code",
   "execution_count": 60,
   "id": "c562a694",
   "metadata": {},
   "outputs": [],
   "source": [
    "def multiplication(a,b):\n",
    "    print(f\"multipication of {a,b} is {a*b}\")"
   ]
  },
  {
   "cell_type": "code",
   "execution_count": 62,
   "id": "28d5ccd6",
   "metadata": {},
   "outputs": [
    {
     "name": "stdout",
     "output_type": "stream",
     "text": [
      "multipication of (3, 5) is 15\n"
     ]
    }
   ],
   "source": [
    "multiplication(3,5)"
   ]
  },
  {
   "cell_type": "code",
   "execution_count": 63,
   "id": "94580493",
   "metadata": {},
   "outputs": [],
   "source": [
    "def add(a,b):\n",
    "    print(f\"add of {a,b}\")"
   ]
  },
  {
   "cell_type": "code",
   "execution_count": 64,
   "id": "228dcb46",
   "metadata": {},
   "outputs": [
    {
     "name": "stdout",
     "output_type": "stream",
     "text": [
      "add of (2, 5)\n"
     ]
    }
   ],
   "source": [
    "add(2,5)"
   ]
  },
  {
   "cell_type": "code",
   "execution_count": 65,
   "id": "1f26d45b",
   "metadata": {},
   "outputs": [],
   "source": [
    "def cube(n):\n",
    "    print(f\"cube of a number {n} {n*n*n}\")"
   ]
  },
  {
   "cell_type": "code",
   "execution_count": 66,
   "id": "50781630",
   "metadata": {},
   "outputs": [
    {
     "name": "stdout",
     "output_type": "stream",
     "text": [
      "cube of a number 5 125\n"
     ]
    }
   ],
   "source": [
    "cube(5)"
   ]
  },
  {
   "cell_type": "code",
   "execution_count": 67,
   "id": "170717fd",
   "metadata": {},
   "outputs": [],
   "source": [
    "lst=[1,2,3,4,5]"
   ]
  },
  {
   "cell_type": "code",
   "execution_count": 78,
   "id": "b444c381",
   "metadata": {},
   "outputs": [],
   "source": [
    "def sum_of_element_in_a_list(lst):\n",
    "    s=0\n",
    "    for i in lst:\n",
    "        s=s+i\n",
    "        print(f\"sum of all values in a list is {s}\")"
   ]
  },
  {
   "cell_type": "code",
   "execution_count": 79,
   "id": "470c8208",
   "metadata": {},
   "outputs": [
    {
     "name": "stdout",
     "output_type": "stream",
     "text": [
      "sum of all values in a list is 1\n",
      "sum of all values in a list is 3\n",
      "sum of all values in a list is 6\n",
      "sum of all values in a list is 10\n",
      "sum of all values in a list is 15\n"
     ]
    }
   ],
   "source": [
    "sum_of_element_in_a_list(lst)"
   ]
  },
  {
   "cell_type": "code",
   "execution_count": 88,
   "id": "94baedb4",
   "metadata": {},
   "outputs": [],
   "source": [
    "def multiplication_of_element_in_a_list(lst):\n",
    "    s=1\n",
    "    for i in lst:\n",
    "        s=s*i\n",
    "    print(f\"multiplication of all values in a list is {s}\")"
   ]
  },
  {
   "cell_type": "code",
   "execution_count": 89,
   "id": "03dc28c7",
   "metadata": {},
   "outputs": [
    {
     "name": "stdout",
     "output_type": "stream",
     "text": [
      "multiplication of all values in a list is 120\n"
     ]
    }
   ],
   "source": [
    "multiplication_of_element_in_a_list(lst)"
   ]
  },
  {
   "cell_type": "code",
   "execution_count": 90,
   "id": "37000d1c",
   "metadata": {},
   "outputs": [],
   "source": [
    "# Write a function in python to calculate product of all element inside a list"
   ]
  },
  {
   "cell_type": "code",
   "execution_count": 91,
   "id": "dac693b7",
   "metadata": {},
   "outputs": [],
   "source": [
    "# write a function in python to calculate hypotenuse of a right angled triangle.\n",
    "# (AC)^2=(AB)^2+(BC)^2\n",
    "# c^2=a^2+b^2\n",
    "# c=(a^2+b^2)^0.5"
   ]
  },
  {
   "cell_type": "code",
   "execution_count": 92,
   "id": "d338f6d4",
   "metadata": {},
   "outputs": [],
   "source": [
    "def cal_hypotenuse(a,b):\n",
    "    hypotenuse=(a**2+b**2)**0.5\n",
    "    print(\"hypotenuse of triangle=\",hypotenuse)"
   ]
  },
  {
   "cell_type": "code",
   "execution_count": 93,
   "id": "f7d9fbf9",
   "metadata": {},
   "outputs": [
    {
     "name": "stdout",
     "output_type": "stream",
     "text": [
      "hypotenuse of triangle= 6.4031242374328485\n"
     ]
    }
   ],
   "source": [
    "cal_hypotenuse(4,5)"
   ]
  },
  {
   "cell_type": "code",
   "execution_count": 94,
   "id": "df052e74",
   "metadata": {},
   "outputs": [],
   "source": [
    "# write a function in python which takes 3 sides and determines whether 3 sides\n",
    "# form triangle or not."
   ]
  },
  {
   "cell_type": "code",
   "execution_count": 98,
   "id": "9178cfa1",
   "metadata": {},
   "outputs": [],
   "source": [
    "def verify_triangle(a,b,c):\n",
    "    if a<b+c and b<a+c and c<a+b:\n",
    "        print(\"it is forming a triangle\")\n",
    "    else:\n",
    "        print(\"it is not forming a triangle\")    \n",
    "       "
   ]
  },
  {
   "cell_type": "code",
   "execution_count": 99,
   "id": "7cad3722",
   "metadata": {},
   "outputs": [
    {
     "name": "stdout",
     "output_type": "stream",
     "text": [
      "it is forming a triangle\n"
     ]
    }
   ],
   "source": [
    "verify_triangle(4,5,6)"
   ]
  },
  {
   "cell_type": "code",
   "execution_count": 100,
   "id": "5a2ae8cd",
   "metadata": {},
   "outputs": [],
   "source": [
    "# write a function in python that calculates area of triangle when 3 sides are given "
   ]
  },
  {
   "cell_type": "code",
   "execution_count": 108,
   "id": "d06b9b79",
   "metadata": {},
   "outputs": [],
   "source": [
    "def cal_area(a,b,c):\n",
    "    s=(a+b+c)/2\n",
    "    area=s*(s-a)*(s-b)*(s-c)\n",
    "    print(f\"Area of triangle is {area}\")"
   ]
  },
  {
   "cell_type": "code",
   "execution_count": 109,
   "id": "cce535f4",
   "metadata": {},
   "outputs": [
    {
     "name": "stdout",
     "output_type": "stream",
     "text": [
      "Area of triangle is 7700.0\n"
     ]
    }
   ],
   "source": [
    "cal_area(15,17,12)"
   ]
  },
  {
   "cell_type": "code",
   "execution_count": null,
   "id": "8c5d394b",
   "metadata": {},
   "outputs": [],
   "source": []
  }
 ],
 "metadata": {
  "kernelspec": {
   "display_name": "Python 3",
   "language": "python",
   "name": "python3"
  },
  "language_info": {
   "codemirror_mode": {
    "name": "ipython",
    "version": 3
   },
   "file_extension": ".py",
   "mimetype": "text/x-python",
   "name": "python",
   "nbconvert_exporter": "python",
   "pygments_lexer": "ipython3",
   "version": "3.13.7"
  }
 },
 "nbformat": 4,
 "nbformat_minor": 5
}
