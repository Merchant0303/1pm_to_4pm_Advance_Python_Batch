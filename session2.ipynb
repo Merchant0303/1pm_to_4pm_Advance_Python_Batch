{
 "cells": [
  {
   "cell_type": "markdown",
   "id": "c5baee65",
   "metadata": {},
   "source": [
    "# Session2"
   ]
  },
  {
   "cell_type": "code",
   "execution_count": 1,
   "id": "4eaae830",
   "metadata": {},
   "outputs": [
    {
     "name": "stdout",
     "output_type": "stream",
     "text": [
      "We are going to learn about function\n"
     ]
    }
   ],
   "source": [
    "print(\"We are going to learn about function\")"
   ]
  },
  {
   "cell_type": "code",
   "execution_count": 4,
   "id": "3b406ca8",
   "metadata": {},
   "outputs": [],
   "source": [
    "dict1={\n",
    "    \"Name\":\"Pratham\",\n",
    "    \"age\":21,\n",
    "    \"salary\":50000\n",
    "}"
   ]
  },
  {
   "cell_type": "code",
   "execution_count": 5,
   "id": "3a8b0c34",
   "metadata": {},
   "outputs": [
    {
     "data": {
      "text/plain": [
       "{'Name': 'Pratham', 'age': 21, 'salary': 50000}"
      ]
     },
     "execution_count": 5,
     "metadata": {},
     "output_type": "execute_result"
    }
   ],
   "source": [
    "dict1"
   ]
  },
  {
   "cell_type": "code",
   "execution_count": null,
   "id": "8428d625",
   "metadata": {},
   "outputs": [],
   "source": []
  }
 ],
 "metadata": {
  "kernelspec": {
   "display_name": "Python 3",
   "language": "python",
   "name": "python3"
  },
  "language_info": {
   "codemirror_mode": {
    "name": "ipython",
    "version": 3
   },
   "file_extension": ".py",
   "mimetype": "text/x-python",
   "name": "python",
   "nbconvert_exporter": "python",
   "pygments_lexer": "ipython3",
   "version": "3.13.7"
  }
 },
 "nbformat": 4,
 "nbformat_minor": 5
}
