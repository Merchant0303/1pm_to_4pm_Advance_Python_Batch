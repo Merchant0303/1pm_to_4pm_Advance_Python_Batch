{
 "cells": [
  {
   "cell_type": "markdown",
   "id": "cf433fec",
   "metadata": {},
   "source": [
    "# *args, **kwargs"
   ]
  },
  {
   "cell_type": "code",
   "execution_count": 1,
   "id": "226049ed",
   "metadata": {},
   "outputs": [],
   "source": [
    "# calculate area of rectangle"
   ]
  },
  {
   "cell_type": "code",
   "execution_count": 2,
   "id": "bd8142d6",
   "metadata": {},
   "outputs": [],
   "source": [
    "def area_of_rect(l,b):\n",
    "    aor=l*b\n",
    "    print(\"Area of rectangle=\",aor)"
   ]
  },
  {
   "cell_type": "code",
   "execution_count": 3,
   "id": "ff444d81",
   "metadata": {},
   "outputs": [
    {
     "name": "stdout",
     "output_type": "stream",
     "text": [
      "Area of rectangle= 12\n"
     ]
    }
   ],
   "source": [
    "area_of_rect(3,4)"
   ]
  },
  {
   "cell_type": "code",
   "execution_count": 4,
   "id": "58b1dade",
   "metadata": {},
   "outputs": [
    {
     "name": "stdout",
     "output_type": "stream",
     "text": [
      "Area of rectangle= 300\n"
     ]
    }
   ],
   "source": [
    "area_of_rect(10,30)"
   ]
  },
  {
   "cell_type": "code",
   "execution_count": 5,
   "id": "d0f70426",
   "metadata": {},
   "outputs": [],
   "source": [
    "# args"
   ]
  },
  {
   "cell_type": "code",
   "execution_count": 6,
   "id": "778be088",
   "metadata": {},
   "outputs": [],
   "source": [
    "# sum of all values present in a parameter"
   ]
  },
  {
   "cell_type": "code",
   "execution_count": 7,
   "id": "4ebbca7e",
   "metadata": {},
   "outputs": [],
   "source": [
    "def cal_sum(*args): #(2,3,4)\n",
    "    sum=0\n",
    "    for i in args:\n",
    "        sum=sum+i # sum=0+2=+2+3=5+4=9\n",
    "    return f\"sum of all values={sum}\"    "
   ]
  },
  {
   "cell_type": "code",
   "execution_count": 8,
   "id": "f42ab6ce",
   "metadata": {},
   "outputs": [
    {
     "data": {
      "text/plain": [
       "'sum of all values=9'"
      ]
     },
     "execution_count": 8,
     "metadata": {},
     "output_type": "execute_result"
    }
   ],
   "source": [
    "cal_sum(2,3,4)"
   ]
  },
  {
   "cell_type": "code",
   "execution_count": 9,
   "id": "ba1f5f4a",
   "metadata": {},
   "outputs": [
    {
     "data": {
      "text/plain": [
       "'sum of all values=135'"
      ]
     },
     "execution_count": 9,
     "metadata": {},
     "output_type": "execute_result"
    }
   ],
   "source": [
    "cal_sum(4,5,6,7,12,34,67)"
   ]
  },
  {
   "cell_type": "code",
   "execution_count": 10,
   "id": "2f758a43",
   "metadata": {},
   "outputs": [],
   "source": [
    "lst=[4,5,6,7,10,20,30,40,50]"
   ]
  },
  {
   "cell_type": "code",
   "execution_count": 11,
   "id": "b849c8e8",
   "metadata": {},
   "outputs": [
    {
     "data": {
      "text/plain": [
       "'sum of all values=172'"
      ]
     },
     "execution_count": 11,
     "metadata": {},
     "output_type": "execute_result"
    }
   ],
   "source": [
    "# list unpacking\n",
    "cal_sum(*lst)"
   ]
  },
  {
   "cell_type": "code",
   "execution_count": 12,
   "id": "d883a196",
   "metadata": {},
   "outputs": [],
   "source": [
    "# **kwargs"
   ]
  },
  {
   "cell_type": "code",
   "execution_count": 13,
   "id": "39e75169",
   "metadata": {},
   "outputs": [],
   "source": [
    "def display_data(**kwargs): #{\"key\":\"values\"}\n",
    "    print(f\"values: {kwargs}\")"
   ]
  },
  {
   "cell_type": "code",
   "execution_count": 14,
   "id": "6b3180b9",
   "metadata": {},
   "outputs": [
    {
     "name": "stdout",
     "output_type": "stream",
     "text": [
      "values: {'name': 'pratham', 'age': 21, 'salary': 20000}\n"
     ]
    }
   ],
   "source": [
    "display_data(name=\"pratham\",age=21,salary=20000)"
   ]
  },
  {
   "cell_type": "code",
   "execution_count": 15,
   "id": "75da4d87",
   "metadata": {},
   "outputs": [],
   "source": [
    "menu={\n",
    "    \"pizza\":250,\n",
    "    \"maggie\":50,\n",
    "    \"noodles\":199,\n",
    "    \"burger\":70\n",
    "}"
   ]
  },
  {
   "cell_type": "code",
   "execution_count": 18,
   "id": "3ec5c091",
   "metadata": {},
   "outputs": [
    {
     "data": {
      "text/plain": [
       "250"
      ]
     },
     "execution_count": 18,
     "metadata": {},
     "output_type": "execute_result"
    }
   ],
   "source": [
    "menu.get(\"pizza\")"
   ]
  },
  {
   "cell_type": "code",
   "execution_count": 27,
   "id": "c8700d35",
   "metadata": {},
   "outputs": [
    {
     "data": {
      "text/plain": [
       "70"
      ]
     },
     "execution_count": 27,
     "metadata": {},
     "output_type": "execute_result"
    }
   ],
   "source": [
    "menu.get(\"burger\")"
   ]
  },
  {
   "cell_type": "code",
   "execution_count": 28,
   "id": "87172783",
   "metadata": {},
   "outputs": [
    {
     "data": {
      "text/plain": [
       "dict_values([250, 50, 199, 70])"
      ]
     },
     "execution_count": 28,
     "metadata": {},
     "output_type": "execute_result"
    }
   ],
   "source": [
    "menu.values()"
   ]
  },
  {
   "cell_type": "code",
   "execution_count": 29,
   "id": "be24d701",
   "metadata": {},
   "outputs": [],
   "source": [
    "# perform billing for a restaurent"
   ]
  },
  {
   "cell_type": "code",
   "execution_count": 60,
   "id": "ddc3390c",
   "metadata": {},
   "outputs": [],
   "source": [
    "def cal_menu(**kwargs):\n",
    "    total_bill=0\n",
    "    for item,price in kwargs.items():\n",
    "        print(f\"Item: {item}, Price : {price}\")\n",
    "        print(\"-------------------------------------\")\n",
    "        total_bill=total_bill+price\n",
    "    return f\"total bill is : {total_bill}\""
   ]
  },
  {
   "cell_type": "code",
   "execution_count": 61,
   "id": "aacd493e",
   "metadata": {},
   "outputs": [
    {
     "name": "stdout",
     "output_type": "stream",
     "text": [
      "Item: pizza, Price : 250\n",
      "-------------------------------------\n",
      "Item: maggie, Price : 50\n",
      "-------------------------------------\n",
      "Item: noodles, Price : 199\n",
      "-------------------------------------\n",
      "Item: burger, Price : 70\n",
      "-------------------------------------\n"
     ]
    },
    {
     "data": {
      "text/plain": [
       "'total bill is : 569'"
      ]
     },
     "execution_count": 61,
     "metadata": {},
     "output_type": "execute_result"
    }
   ],
   "source": [
    "cal_menu(**menu)"
   ]
  },
  {
   "cell_type": "code",
   "execution_count": 65,
   "id": "e3063a5f",
   "metadata": {},
   "outputs": [],
   "source": [
    "def restaurent_billing(**kwargs):\n",
    "    bill=0\n",
    "    for item,qty in kwargs.items():\n",
    "        amt=menu.get(item)*qty\n",
    "        bill=bill+amt\n",
    "        print(f\"Item:{item},quantity:{qty},amount:{amt}\")\n",
    "    return f\"Total bill={bill}\""
   ]
  },
  {
   "cell_type": "code",
   "execution_count": 66,
   "id": "d84d526b",
   "metadata": {},
   "outputs": [
    {
     "name": "stdout",
     "output_type": "stream",
     "text": [
      "Item:burger,quantity:2,amount:140\n",
      "Item:maggie,quantity:3,amount:150\n"
     ]
    },
    {
     "data": {
      "text/plain": [
       "'Total bill=290'"
      ]
     },
     "execution_count": 66,
     "metadata": {},
     "output_type": "execute_result"
    }
   ],
   "source": [
    "restaurent_billing(burger=2,maggie=3)"
   ]
  },
  {
   "cell_type": "code",
   "execution_count": 67,
   "id": "c7f1258f",
   "metadata": {},
   "outputs": [],
   "source": [
    "# Generator function"
   ]
  },
  {
   "cell_type": "code",
   "execution_count": 69,
   "id": "c76fed96",
   "metadata": {},
   "outputs": [],
   "source": [
    "# 0,1,1,2,3,5,8,13,21"
   ]
  },
  {
   "cell_type": "code",
   "execution_count": 70,
   "id": "7004822f",
   "metadata": {},
   "outputs": [
    {
     "name": "stdout",
     "output_type": "stream",
     "text": [
      "1\n",
      "2\n",
      "3\n",
      "4\n",
      "5\n",
      "6\n",
      "7\n",
      "8\n",
      "9\n",
      "10\n"
     ]
    }
   ],
   "source": [
    "# while\n",
    "# 1)initialisation \n",
    "# 2)condition checking\n",
    "# 3)increment / decrement \n",
    "i=1\n",
    "while i<=10:\n",
    "    print(i)\n",
    "    i=i+1"
   ]
  },
  {
   "cell_type": "code",
   "execution_count": 72,
   "id": "93f0064a",
   "metadata": {},
   "outputs": [],
   "source": [
    "i=1\n",
    "sum=0\n",
    "while i<=10:\n",
    "    sum=sum+1\n",
    "    i=i+1"
   ]
  },
  {
   "cell_type": "code",
   "execution_count": 74,
   "id": "2bffdaa1",
   "metadata": {},
   "outputs": [
    {
     "data": {
      "text/plain": [
       "10"
      ]
     },
     "execution_count": 74,
     "metadata": {},
     "output_type": "execute_result"
    }
   ],
   "source": [
    "sum"
   ]
  },
  {
   "cell_type": "code",
   "execution_count": 75,
   "id": "f03fbea2",
   "metadata": {},
   "outputs": [],
   "source": [
    "# print table of any number using while loop"
   ]
  },
  {
   "cell_type": "code",
   "execution_count": 79,
   "id": "57538988",
   "metadata": {},
   "outputs": [
    {
     "name": "stdout",
     "output_type": "stream",
     "text": [
      "5\n",
      "10\n",
      "15\n",
      "20\n",
      "25\n",
      "30\n",
      "35\n",
      "40\n",
      "45\n"
     ]
    }
   ],
   "source": [
    "i=1\n",
    "n=int(input(\"Enter a number\"))\n",
    "while i<10:\n",
    "    print(n*i)\n",
    "    i=i+1"
   ]
  },
  {
   "cell_type": "code",
   "execution_count": 80,
   "id": "65ae42d6",
   "metadata": {},
   "outputs": [],
   "source": [
    "# 0,1,1,2,3,5,8,13,21"
   ]
  },
  {
   "cell_type": "code",
   "execution_count": 84,
   "id": "2ed87ee1",
   "metadata": {},
   "outputs": [
    {
     "name": "stdout",
     "output_type": "stream",
     "text": [
      "0\n",
      "1\n",
      "1\n",
      "2\n",
      "3\n",
      "5\n",
      "8\n",
      "13\n",
      "21\n",
      "34\n"
     ]
    }
   ],
   "source": [
    "i=1\n",
    "a=0\n",
    "b=1\n",
    "c=0\n",
    "while i<=10:\n",
    "    print(c)\n",
    "    a=b\n",
    "    b=c\n",
    "    c=a+b\n",
    "    i=i+1"
   ]
  },
  {
   "cell_type": "code",
   "execution_count": null,
   "id": "d6b6d09b",
   "metadata": {},
   "outputs": [],
   "source": [
    "def fib_number():\n",
    "    a,b=0,1\n",
    "    a=0\n",
    "    b=1\n",
    "    while True:\n",
    "    a,b=b,a+b\n",
    "a=0,b=1\n",
    "a,b=1,1\n",
    "0,1    "
   ]
  }
 ],
 "metadata": {
  "kernelspec": {
   "display_name": "Python 3",
   "language": "python",
   "name": "python3"
  },
  "language_info": {
   "codemirror_mode": {
    "name": "ipython",
    "version": 3
   },
   "file_extension": ".py",
   "mimetype": "text/x-python",
   "name": "python",
   "nbconvert_exporter": "python",
   "pygments_lexer": "ipython3",
   "version": "3.13.7"
  }
 },
 "nbformat": 4,
 "nbformat_minor": 5
}
