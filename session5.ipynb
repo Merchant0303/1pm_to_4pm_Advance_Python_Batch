{
 "cells": [
  {
   "cell_type": "markdown",
   "id": "6fa9958f",
   "metadata": {},
   "source": [
    "# OOPS (object oriented programming system) "
   ]
  },
  {
   "cell_type": "code",
   "execution_count": 1,
   "id": "0b01409b",
   "metadata": {},
   "outputs": [],
   "source": [
    "# oops=it is a technique to build real world application using classes and object"
   ]
  },
  {
   "cell_type": "code",
   "execution_count": 2,
   "id": "5e3d3a24",
   "metadata": {},
   "outputs": [],
   "source": [
    "# class = it is blueprint of an object / collection of object "
   ]
  },
  {
   "cell_type": "code",
   "execution_count": 3,
   "id": "49f480c4",
   "metadata": {},
   "outputs": [],
   "source": [
    "# object = it is an instance(Example) of a class "
   ]
  },
  {
   "cell_type": "code",
   "execution_count": 4,
   "id": "e52c95b3",
   "metadata": {},
   "outputs": [],
   "source": [
    "class Person:\n",
    "    def properties(self,name,age,salary):\n",
    "        self.name=name\n",
    "        self.age=age\n",
    "        self.salary=salary\n",
    "    def display_data(self):\n",
    "        print(f\"Name:{self.name}\\nAge:{self.age}\\nSalary:{self.salary}\")    "
   ]
  },
  {
   "cell_type": "markdown",
   "id": "8693ebc4",
   "metadata": {},
   "source": [
    "# Create an Object"
   ]
  },
  {
   "cell_type": "code",
   "execution_count": 5,
   "id": "7a5f3c3b",
   "metadata": {},
   "outputs": [],
   "source": [
    "person1=Person()"
   ]
  },
  {
   "cell_type": "code",
   "execution_count": 7,
   "id": "40b96f93",
   "metadata": {},
   "outputs": [],
   "source": [
    "person1.properties(\"Pratham\",21,30000)"
   ]
  },
  {
   "cell_type": "code",
   "execution_count": 8,
   "id": "3ff101d2",
   "metadata": {},
   "outputs": [
    {
     "name": "stdout",
     "output_type": "stream",
     "text": [
      "Name:Pratham\n",
      "Age:21\n",
      "Salary:30000\n"
     ]
    }
   ],
   "source": [
    "person1.display_data()"
   ]
  },
  {
   "cell_type": "code",
   "execution_count": 9,
   "id": "d55e1a07",
   "metadata": {},
   "outputs": [],
   "source": [
    "person2=Person()"
   ]
  },
  {
   "cell_type": "code",
   "execution_count": 11,
   "id": "1a9c8645",
   "metadata": {},
   "outputs": [],
   "source": [
    "person2.properties(\"Sujit\",20,40000)"
   ]
  },
  {
   "cell_type": "code",
   "execution_count": 12,
   "id": "e2eff4d5",
   "metadata": {},
   "outputs": [
    {
     "name": "stdout",
     "output_type": "stream",
     "text": [
      "Name:Sujit\n",
      "Age:20\n",
      "Salary:40000\n"
     ]
    }
   ],
   "source": [
    "person2.display_data()"
   ]
  },
  {
   "cell_type": "markdown",
   "id": "adf6b9eb",
   "metadata": {},
   "source": [
    "# Create a Class"
   ]
  },
  {
   "cell_type": "code",
   "execution_count": 13,
   "id": "6c70f466",
   "metadata": {},
   "outputs": [],
   "source": [
    "class Customer:\n",
    "    def data(self,name,email,product_ID):\n",
    "        self.name =name\n",
    "        self.email =email\n",
    "        self.product_ID =product_ID\n",
    "    def show_data(self):\n",
    "        print(f\"Customer Name:{self.name}\\nEmail:{self.email}\\nProduct ID={self.product_ID}\")    "
   ]
  },
  {
   "cell_type": "code",
   "execution_count": 15,
   "id": "4ca934ad",
   "metadata": {},
   "outputs": [],
   "source": [
    "c1=Customer()"
   ]
  },
  {
   "cell_type": "code",
   "execution_count": 21,
   "id": "cfc04033",
   "metadata": {},
   "outputs": [],
   "source": [
    "c1.data(\"Pratham\",\"s@gmail.com\",\"001AAD\")"
   ]
  },
  {
   "cell_type": "code",
   "execution_count": 22,
   "id": "741d37d1",
   "metadata": {},
   "outputs": [
    {
     "name": "stdout",
     "output_type": "stream",
     "text": [
      "Customer Name:Pratham\n",
      "Email:s@gmail.com\n",
      "Product ID=001AAD\n"
     ]
    }
   ],
   "source": [
    "c1.show_data()"
   ]
  },
  {
   "cell_type": "code",
   "execution_count": 23,
   "id": "69fe5728",
   "metadata": {},
   "outputs": [
    {
     "name": "stdout",
     "output_type": "stream",
     "text": [
      "Customer Name:Alice\n",
      "Email:a@gmail.com\n",
      "Product ID=002AAf\n"
     ]
    }
   ],
   "source": [
    "c2=Customer()\n",
    "c2.data(\"Alice\",'a@gmail.com',\"002AAf\")\n",
    "c2.show_data()"
   ]
  },
  {
   "cell_type": "code",
   "execution_count": 31,
   "id": "df374f0c",
   "metadata": {},
   "outputs": [],
   "source": [
    "class Car:\n",
    "    def data(self,Brand,price,colour):\n",
    "        self.Brand =Brand\n",
    "        self.price =price\n",
    "        self.colour =colour\n",
    "    def show_data(self):\n",
    "        print(f\"Car :{self.Brand}\\nprice:{self.price}\\ncolour={self.colour}\")"
   ]
  },
  {
   "cell_type": "code",
   "execution_count": 32,
   "id": "3caeb708",
   "metadata": {},
   "outputs": [
    {
     "name": "stdout",
     "output_type": "stream",
     "text": [
      "Car :Audi\n",
      "price:1cr\n",
      "colour=white\n"
     ]
    }
   ],
   "source": [
    "c2=Car()\n",
    "c2.data(\"Audi\",\"1cr\",\"white\")\n",
    "c2.show_data()"
   ]
  },
  {
   "cell_type": "markdown",
   "id": "d2359316",
   "metadata": {},
   "source": [
    "# Constructor\n",
    ". is a function which is automatically called when object is created"
   ]
  },
  {
   "cell_type": "code",
   "execution_count": 33,
   "id": "72e1905b",
   "metadata": {},
   "outputs": [],
   "source": [
    "class Great:\n",
    "    def __init__(self):\n",
    "        print(\"Welcome to ETLHIVE\")"
   ]
  },
  {
   "cell_type": "code",
   "execution_count": 34,
   "id": "40940794",
   "metadata": {},
   "outputs": [
    {
     "name": "stdout",
     "output_type": "stream",
     "text": [
      "Welcome to ETLHIVE\n"
     ]
    }
   ],
   "source": [
    "g1=Great()"
   ]
  },
  {
   "cell_type": "code",
   "execution_count": 37,
   "id": "c52999b8",
   "metadata": {},
   "outputs": [],
   "source": [
    "class Car:\n",
    "    def __init__(self,brand,price,color):\n",
    "        self.brand=brand\n",
    "        self.price=price\n",
    "        self.color=color\n",
    "    def display(self):\n",
    "        print(f\"Brand={self.brand}\\nPrice={self.price}\\nColor={self.color}\")    "
   ]
  },
  {
   "cell_type": "code",
   "execution_count": 39,
   "id": "fe313611",
   "metadata": {},
   "outputs": [],
   "source": [
    "c1=Car(\"audi\",\"1cr\",\"white\")"
   ]
  },
  {
   "cell_type": "code",
   "execution_count": 40,
   "id": "92c1f827",
   "metadata": {},
   "outputs": [
    {
     "name": "stdout",
     "output_type": "stream",
     "text": [
      "Brand=audi\n",
      "Price=1cr\n",
      "Color=white\n"
     ]
    }
   ],
   "source": [
    "c1.display()"
   ]
  },
  {
   "cell_type": "code",
   "execution_count": 41,
   "id": "b4725768",
   "metadata": {},
   "outputs": [
    {
     "name": "stdout",
     "output_type": "stream",
     "text": [
      "Brand=bmw\n",
      "Price=3cr\n",
      "Color=red\n"
     ]
    }
   ],
   "source": [
    "c2=Car(\"bmw\",\"3cr\",\"red\")\n",
    "c2.display()\n"
   ]
  },
  {
   "cell_type": "code",
   "execution_count": 42,
   "id": "d3bbaf8d",
   "metadata": {},
   "outputs": [
    {
     "name": "stdout",
     "output_type": "stream",
     "text": [
      "Brand=Maruti Suzuki\n",
      "Price=10lakh\n",
      "Color=red\n"
     ]
    }
   ],
   "source": [
    "c3=Car(\"Maruti Suzuki\",\"10lakh\",\"red\")\n",
    "c3.display()"
   ]
  },
  {
   "cell_type": "code",
   "execution_count": 71,
   "id": "22e729db",
   "metadata": {},
   "outputs": [],
   "source": [
    "class Bank:\n",
    "    def __init__(self,Account_Number,Account_Holder_Name,Balance):\n",
    "        self.Account_Number=Account_Number\n",
    "        self.Account_Holder_Name=Account_Holder_Name\n",
    "        self.Balance=Balance\n",
    "    def display(self):\n",
    "        print(f\"Account_Number={self.Account_Number}\\nAccount_HolderName={self.Account_Holder_Name}\\nBalance={self.Balance}\")\n",
    "\n",
    "    def deposit(self,deposit_money):\n",
    "        self.deposit_money=deposit_money\n",
    "        self.Balance=self.Balance+self.deposit_money\n",
    "        print(f\"The final amount after deposit of {self.deposit_money} is {self.Balance}\")\n",
    "\n",
    "    def withdraw(self,withdraw_money):\n",
    "        self.withdraw_money=withdraw_money\n",
    "        if self.withdraw_money<=self.Balance:\n",
    "            self.Balance=self.Balance-self.withdraw_money\n",
    "            print(f\"The final amount after withdraw of {self.withdraw_money} rs is {self.Balance}\")\n",
    "        else:\n",
    "            print(\"insufficient money in your Bank amount\")"
   ]
  },
  {
   "cell_type": "code",
   "execution_count": 72,
   "id": "5995c65c",
   "metadata": {},
   "outputs": [],
   "source": [
    "c1=Bank(\"6666\",\"pratham\",300000000)"
   ]
  },
  {
   "cell_type": "code",
   "execution_count": 73,
   "id": "41eb1437",
   "metadata": {},
   "outputs": [
    {
     "name": "stdout",
     "output_type": "stream",
     "text": [
      "Account_Number=6666\n",
      "Account_HolderName=pratham\n",
      "Balance=300000000\n"
     ]
    }
   ],
   "source": [
    "c1.display()"
   ]
  },
  {
   "cell_type": "code",
   "execution_count": 74,
   "id": "13a66d49",
   "metadata": {},
   "outputs": [
    {
     "name": "stdout",
     "output_type": "stream",
     "text": [
      "The final amount after deposit of 2000 is 300002000\n"
     ]
    }
   ],
   "source": [
    "c1.deposit(2000)"
   ]
  },
  {
   "cell_type": "code",
   "execution_count": null,
   "id": "b38362c1",
   "metadata": {},
   "outputs": [],
   "source": []
  },
  {
   "cell_type": "code",
   "execution_count": null,
   "id": "88d9ea5a",
   "metadata": {},
   "outputs": [],
   "source": []
  }
 ],
 "metadata": {
  "kernelspec": {
   "display_name": "Python 3",
   "language": "python",
   "name": "python3"
  },
  "language_info": {
   "codemirror_mode": {
    "name": "ipython",
    "version": 3
   },
   "file_extension": ".py",
   "mimetype": "text/x-python",
   "name": "python",
   "nbconvert_exporter": "python",
   "pygments_lexer": "ipython3",
   "version": "3.13.7"
  }
 },
 "nbformat": 4,
 "nbformat_minor": 5
}
