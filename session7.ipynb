{
 "cells": [
  {
   "cell_type": "markdown",
   "id": "c078f0f9",
   "metadata": {},
   "source": [
    "# polymorphism\n",
    "- Poly= many\n",
    "- morphism= form"
   ]
  },
  {
   "cell_type": "code",
   "execution_count": 1,
   "id": "f90f5e95",
   "metadata": {},
   "outputs": [
    {
     "data": {
      "text/plain": [
       "7"
      ]
     },
     "execution_count": 1,
     "metadata": {},
     "output_type": "execute_result"
    }
   ],
   "source": [
    "len(\"pratham\")"
   ]
  },
  {
   "cell_type": "code",
   "execution_count": 3,
   "id": "f2ad8c93",
   "metadata": {},
   "outputs": [
    {
     "data": {
      "text/plain": [
       "12"
      ]
     },
     "execution_count": 3,
     "metadata": {},
     "output_type": "execute_result"
    }
   ],
   "source": [
    "lst=[1,2,3,4,5,6,7,8,11,22,33,44]\n",
    "len(lst)"
   ]
  },
  {
   "cell_type": "code",
   "execution_count": 4,
   "id": "931e3ef0",
   "metadata": {},
   "outputs": [],
   "source": [
    "dict1={\n",
    "    1:\"A\",\n",
    "    2:\"B\",\n",
    "    3:\"C\",\n",
    "    4:\"D\"\n",
    "}"
   ]
  },
  {
   "cell_type": "code",
   "execution_count": 5,
   "id": "9200fde3",
   "metadata": {},
   "outputs": [
    {
     "data": {
      "text/plain": [
       "4"
      ]
     },
     "execution_count": 5,
     "metadata": {},
     "output_type": "execute_result"
    }
   ],
   "source": [
    "len(dict1)"
   ]
  },
  {
   "cell_type": "code",
   "execution_count": 6,
   "id": "f3c6f820",
   "metadata": {},
   "outputs": [],
   "source": [
    "# Two types in polymorphism\n",
    "# 1)function overloading\n",
    "# 2)function overriding\n",
    "# 3)operator overloading\n",
    "# 4)operator overriding"
   ]
  },
  {
   "cell_type": "code",
   "execution_count": 14,
   "id": "13404ad0",
   "metadata": {},
   "outputs": [],
   "source": [
    "class India:\n",
    "    def capital(self):\n",
    "        print(\"New delhi is capital of India\")\n",
    "    def language(self):\n",
    "        print(\"Hindi is official language of India\")   "
   ]
  },
  {
   "cell_type": "code",
   "execution_count": 18,
   "id": "0dcece2a",
   "metadata": {},
   "outputs": [],
   "source": [
    "class Usa:\n",
    "    def capital(self):\n",
    "        print(\"Washington D.C. is capital of Usa\")\n",
    "    def language(self):\n",
    "        print(\"English is official language of Usa\")"
   ]
  },
  {
   "cell_type": "code",
   "execution_count": 19,
   "id": "78d85cab",
   "metadata": {},
   "outputs": [
    {
     "name": "stdout",
     "output_type": "stream",
     "text": [
      "New delhi is capital of India\n",
      "Hindi is official language of India\n"
     ]
    }
   ],
   "source": [
    "# create an object\n",
    "I=India()\n",
    "I.capital()\n",
    "I.language()"
   ]
  },
  {
   "cell_type": "code",
   "execution_count": 20,
   "id": "57c81120",
   "metadata": {},
   "outputs": [
    {
     "name": "stdout",
     "output_type": "stream",
     "text": [
      "Washington D.C. is capital of Usa\n",
      "English is official language of Usa\n"
     ]
    }
   ],
   "source": [
    "U=Usa()\n",
    "U.capital()\n",
    "U.language()"
   ]
  },
  {
   "cell_type": "code",
   "execution_count": 21,
   "id": "c2ad5942",
   "metadata": {},
   "outputs": [
    {
     "name": "stdout",
     "output_type": "stream",
     "text": [
      "New delhi is capital of India\n",
      "Hindi is official language of India\n",
      "Washington D.C. is capital of Usa\n",
      "English is official language of Usa\n"
     ]
    }
   ],
   "source": [
    "for i in I,U:\n",
    "    i.capital()\n",
    "    i.language()"
   ]
  },
  {
   "cell_type": "markdown",
   "id": "fc008dc9",
   "metadata": {},
   "source": [
    "# Operator Overloading"
   ]
  },
  {
   "cell_type": "code",
   "execution_count": 22,
   "id": "e2a07d7a",
   "metadata": {},
   "outputs": [],
   "source": [
    "# + = __add__\n",
    "# - = __sub__\n",
    "# * = __mul__\n",
    "# / = __div__\n",
    "\n",
    "# & = __and__\n",
    "# | = __or__\n",
    "\n",
    "# > = __gt__\n",
    "# < = __lt__\n",
    "# >= = __gte__\n",
    "# <= = __lte__\n",
    "# = = __eq__"
   ]
  },
  {
   "cell_type": "code",
   "execution_count": 25,
   "id": "f5322eb3",
   "metadata": {},
   "outputs": [],
   "source": [
    "class Addition:\n",
    "    def __init__(self,a):\n",
    "        self.a=a\n",
    "    def __add__(self,other):\n",
    "        return self.a+other.a    "
   ]
  },
  {
   "cell_type": "code",
   "execution_count": 27,
   "id": "8450528e",
   "metadata": {},
   "outputs": [],
   "source": [
    "\n",
    "obj1=Addition(10)\n",
    "obj2=Addition(20)"
   ]
  },
  {
   "cell_type": "code",
   "execution_count": 29,
   "id": "d9d34f11",
   "metadata": {},
   "outputs": [
    {
     "data": {
      "text/plain": [
       "30"
      ]
     },
     "execution_count": 29,
     "metadata": {},
     "output_type": "execute_result"
    }
   ],
   "source": [
    "obj1+obj2"
   ]
  },
  {
   "cell_type": "code",
   "execution_count": 30,
   "id": "ecbfba48",
   "metadata": {},
   "outputs": [],
   "source": [
    "# greater than"
   ]
  },
  {
   "cell_type": "code",
   "execution_count": 40,
   "id": "d7b5c31c",
   "metadata": {},
   "outputs": [],
   "source": [
    "class compare_age:\n",
    "    def __init__(self):\n",
    "        self.name=input(\"Enter your name \")\n",
    "        self.age=int(input(\"Enter your age\"))\n",
    "    def __gt__(self,other):\n",
    "        if self.age>other.age:\n",
    "            return f\"{self.same} is older than {other.name}\"\n",
    "        else:\n",
    "            return f\"(self.name) is younger than {other.name}\"        "
   ]
  },
  {
   "cell_type": "code",
   "execution_count": 45,
   "id": "fa10cd59",
   "metadata": {},
   "outputs": [],
   "source": [
    "person1=compare_age()"
   ]
  },
  {
   "cell_type": "code",
   "execution_count": 46,
   "id": "75f3a52f",
   "metadata": {},
   "outputs": [],
   "source": [
    "person2=compare_age()"
   ]
  },
  {
   "cell_type": "code",
   "execution_count": 47,
   "id": "43a207f9",
   "metadata": {},
   "outputs": [
    {
     "data": {
      "text/plain": [
       "'(self.name) is younger than sujit'"
      ]
     },
     "execution_count": 47,
     "metadata": {},
     "output_type": "execute_result"
    }
   ],
   "source": [
    "person1 > person2"
   ]
  },
  {
   "cell_type": "code",
   "execution_count": 48,
   "id": "53c4b318",
   "metadata": {},
   "outputs": [],
   "source": [
    "class check_divisibility:\n",
    "    def __init__(self):\n",
    "        self.num=int(input(\"Enter a number\"))\n",
    "    def __and__(self,other):\n",
    "        if self.num%2==0 and other.num%2==0:\n",
    "            return \"Both number is even\"\n",
    "        else:\n",
    "            return \"Both numbers are odd\"   "
   ]
  },
  {
   "cell_type": "code",
   "execution_count": 49,
   "id": "e9df9fa7",
   "metadata": {},
   "outputs": [],
   "source": [
    "o1=check_divisibility()"
   ]
  },
  {
   "cell_type": "code",
   "execution_count": 50,
   "id": "92c168cd",
   "metadata": {},
   "outputs": [],
   "source": [
    "o2=check_divisibility()"
   ]
  },
  {
   "cell_type": "code",
   "execution_count": 51,
   "id": "e2ae61e1",
   "metadata": {},
   "outputs": [
    {
     "data": {
      "text/plain": [
       "'Both numbers are odd'"
      ]
     },
     "execution_count": 51,
     "metadata": {},
     "output_type": "execute_result"
    }
   ],
   "source": [
    "o1 & o2"
   ]
  },
  {
   "cell_type": "code",
   "execution_count": 52,
   "id": "46e37fd7",
   "metadata": {},
   "outputs": [],
   "source": [
    "# complex number = combination of real and imaginary number\n",
    "# a+ib\n",
    "# a=10,b=20\n",
    "# a=4,b=10\n",
    "# res=14+i30"
   ]
  },
  {
   "cell_type": "code",
   "execution_count": 53,
   "id": "57c2c2c9",
   "metadata": {},
   "outputs": [],
   "source": [
    "class Complex_number:\n",
    "    def __init__(self,a,b):\n",
    "        self.a=a\n",
    "        self.b=b\n",
    "    def __add__(self,other):\n",
    "        return f\"{self.a+other.a}+i{self.b+other.b}\"  "
   ]
  },
  {
   "cell_type": "code",
   "execution_count": 54,
   "id": "1ef7d34e",
   "metadata": {},
   "outputs": [],
   "source": [
    "c1=Complex_number(4,7)"
   ]
  },
  {
   "cell_type": "code",
   "execution_count": 55,
   "id": "27da17e9",
   "metadata": {},
   "outputs": [],
   "source": [
    "c2=Complex_number(9,3)"
   ]
  },
  {
   "cell_type": "code",
   "execution_count": 56,
   "id": "81a9bad8",
   "metadata": {},
   "outputs": [
    {
     "data": {
      "text/plain": [
       "'13+i10'"
      ]
     },
     "execution_count": 56,
     "metadata": {},
     "output_type": "execute_result"
    }
   ],
   "source": [
    "c1+c2"
   ]
  },
  {
   "cell_type": "code",
   "execution_count": null,
   "id": "9de92482",
   "metadata": {},
   "outputs": [],
   "source": []
  }
 ],
 "metadata": {
  "kernelspec": {
   "display_name": "Python 3",
   "language": "python",
   "name": "python3"
  },
  "language_info": {
   "codemirror_mode": {
    "name": "ipython",
    "version": 3
   },
   "file_extension": ".py",
   "mimetype": "text/x-python",
   "name": "python",
   "nbconvert_exporter": "python",
   "pygments_lexer": "ipython3",
   "version": "3.13.7"
  }
 },
 "nbformat": 4,
 "nbformat_minor": 5
}
